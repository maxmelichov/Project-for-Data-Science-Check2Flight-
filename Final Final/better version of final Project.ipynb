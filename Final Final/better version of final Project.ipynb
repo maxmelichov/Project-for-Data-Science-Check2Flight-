{
 "cells": [
  {
   "cell_type": "markdown",
   "id": "f41e26a7",
   "metadata": {},
   "source": [
    "# Follow the Instructions\n",
    "### - Run the first cell  \n",
    "### - get down to 'START HERE'"
   ]
  },
  {
   "cell_type": "code",
   "execution_count": 1,
   "id": "9bc20584",
   "metadata": {},
   "outputs": [],
   "source": [
    "import requests\n",
    "import pandas as pd\n",
    "import selenium\n",
    "import time\n",
    "import pandas as pd\n",
    "from selenium.webdriver.common.keys import Keys\n",
    "from selenium.webdriver.common.by import By\n",
    "from selenium.webdriver.support.ui import WebDriverWait\n",
    "from selenium.webdriver.support import expected_conditions as EC\n",
    "from selenium import webdriver\n",
    "from selenium.webdriver.support.ui import Select\n",
    "import seaborn as sns\n",
    "import collections\n",
    "import geopandas as gpd\n",
    "import matplotlib.pyplot as plt\n",
    "from scipy import stats\n",
    "from sklearn.linear_model import LogisticRegression\n",
    "from sklearn.model_selection import train_test_split\n",
    "from sklearn import metrics,preprocessing\n",
    "import numpy as np\n",
    "from sklearn.preprocessing import StandardScaler\n",
    "from sklearn.metrics import classification_report, confusion_matrix\n",
    "from sklearn.datasets import load_digits\n",
    "from sklearn.metrics import accuracy_score, precision_score, recall_score\n",
    "from sklearn.svm import LinearSVC\n",
    "from sklearn.tree import DecisionTreeClassifier\n",
    "from sklearn.ensemble import RandomForestClassifier\n",
    "from sklearn.naive_bayes import GaussianNB\n",
    "from sklearn.neighbors import KNeighborsClassifier\n",
    "from sklearn import model_selection\n",
    "from sklearn.ensemble import RandomForestRegressor\n",
    "from sklearn import metrics\n",
    "from sklearn.model_selection import KFold\n",
    "import warnings\n",
    "warnings.filterwarnings('ignore')"
   ]
  },
  {
   "cell_type": "markdown",
   "id": "5c73c5a3",
   "metadata": {},
   "source": [
    "# Do Not Run this! You don't need to run the Selenuim and API again because all the relevent files are in the folder\n",
    "it will take you couple of days :)"
   ]
  },
  {
   "cell_type": "code",
   "execution_count": null,
   "id": "13b379df",
   "metadata": {},
   "outputs": [],
   "source": [
    "key='our key is a secret'\n",
    "url = \"http://aviation-edge.com/v2/public/flightsHistory?key=\"+key+\"&code=tlv&type=arrival&date_from=2021-12-05&date_to=2021-12-10\"\n",
    "\n",
    "\n",
    "\n",
    "response = requests.get(url)\n",
    "\n",
    "print(response.text)"
   ]
  },
  {
   "cell_type": "code",
   "execution_count": null,
   "id": "a1527152",
   "metadata": {},
   "outputs": [],
   "source": [
    "j=response.json()\n",
    "df=pd.json_normalize(j)"
   ]
  },
  {
   "cell_type": "markdown",
   "id": "2dbc92ad",
   "metadata": {},
   "source": [
    "output in to csv file \n"
   ]
  },
  {
   "cell_type": "code",
   "execution_count": null,
   "id": "f6c2bf27",
   "metadata": {},
   "outputs": [],
   "source": [
    "#df.to_csv('releventfile.csv',index=False)"
   ]
  },
  {
   "cell_type": "markdown",
   "id": "1ddc52f3",
   "metadata": {},
   "source": [
    "starting selenium to get weather info"
   ]
  },
  {
   "cell_type": "code",
   "execution_count": null,
   "id": "d57adbc4",
   "metadata": {},
   "outputs": [],
   "source": [
    "import pandas as pd\n",
    "df=pd.read_csv('outputdec.csv')\n",
    "df_new=df['departure.icaoCode']\n",
    "df_new=df_new.drop_duplicates()\n",
    "_list =df_new.values.tolist()\n",
    "print(_list)"
   ]
  },
  {
   "cell_type": "code",
   "execution_count": null,
   "id": "50e6ae5f",
   "metadata": {},
   "outputs": [],
   "source": [
    "df_weather =pd.DataFrame(columns=[\"day\",\"location\",\"Bad-Weather_today\"])\n",
    "df_weather.head()\n",
    "PATH =\"C:\\Program Files (x86)\\chromedriver.exe\"\n",
    "driver =webdriver.Chrome(PATH)\n",
    "days = ['4','5','6','7','8','9','10','11','12','13','14','15','16','17','18','19','20','21','22','23','24','25','26','27']\n",
    "for day in days:\n",
    "    for value in _list:\n",
    "        driver.get(\"https://www.wunderground.com/history\")\n",
    "        select =Select(driver.find_element_by_id('daySelection'))\n",
    "        select.select_by_visible_text(day)\n",
    "        time.sleep(2)\n",
    "        search =driver.find_element_by_id('historySearch')\n",
    "        search.send_keys(value)\n",
    "        time.sleep(4)\n",
    "        search.send_keys(Keys.ENTER)\n",
    "        search.send_keys(Keys.ENTER)\n",
    "        time.sleep(4)\n",
    "    #driver.execute_script(\"window.scrollTo(20,document.body.scrollHeight)\")\n",
    "        main =driver.find_element_by_class_name(\"ng-star-inserted\")\n",
    "    \n",
    "        if ('T-Storm' and 'Snow Shower') in main.text:\n",
    "            df_weather = df_weather.append({\"day\": day,\"location\": value,\"Bad-Weather_today\": 1},ignore_index=True)\n",
    "        else:\n",
    "            df_weather = df_weather.append({\"day\": day,\"location\": value,\"Bad-Weather_today\": 0},ignore_index=True)\n",
    "\n",
    "        print(df_weather)\n",
    "\n",
    "df_weather      \n",
    "        \n"
   ]
  },
  {
   "cell_type": "markdown",
   "id": "d334f4d6",
   "metadata": {},
   "source": [
    "Getting longitude and latitude for the airports that we have in selenium"
   ]
  },
  {
   "cell_type": "code",
   "execution_count": null,
   "id": "323cb516",
   "metadata": {},
   "outputs": [],
   "source": [
    "df=pd.read_csv('database_with_weather.csv')\n",
    "df_new=df['departure.icaoCode']\n",
    "df_new=df_new.drop_duplicates()\n",
    "_list =df_new.values.tolist()\n",
    "print(_list)"
   ]
  },
  {
   "cell_type": "code",
   "execution_count": null,
   "id": "5f081354",
   "metadata": {},
   "outputs": [],
   "source": [
    "df_location =pd.DataFrame(columns=[\"place\",\"longitude\",\"latitude\"])\n",
    "df_location.head()\n",
    "df_weather =pd.DataFrame(columns=[\"day\",\"location\",\"Bad-Weather_today\"])\n",
    "df_weather.head()\n",
    "PATH =\"C:\\Program Files (x86)\\chromedriver.exe\"\n",
    "driver =webdriver.Chrome(PATH)\n",
    "for value in _list:\n",
    "    driver.get(\"https://applications.icao.int/airport-map/\")\n",
    "    time.sleep(7)\n",
    "    search =driver.find_element_by_id(\"match\")\n",
    "    search.send_keys(value)\n",
    "    search.send_keys(Keys.ENTER)\n",
    "    search.send_keys(Keys.ENTER)\n",
    "    main1 =driver.find_element_by_xpath(\"/html/body/div[12]/table/tbody/tr[3]/td[2]/strong\")\n",
    "    latitude,longitude =main1.text.split(\",\")\n",
    "    print(longitude)\n",
    "    print(latitude)\n",
    "    df_location = df_location.append({\"location\": value,\"longitude\":longitude,\"latitude\":latitude},ignore_index=True)"
   ]
  },
  {
   "cell_type": "markdown",
   "id": "a9ace709",
   "metadata": {},
   "source": [
    "# START HERE "
   ]
  },
  {
   "cell_type": "markdown",
   "id": "3b462165",
   "metadata": {},
   "source": [
    "importing all the data that we collected"
   ]
  },
  {
   "cell_type": "code",
   "execution_count": 2,
   "id": "3daad1f3",
   "metadata": {},
   "outputs": [],
   "source": [
    "result=pd.DataFrame()\n",
    "df1=pd.DataFrame()\n",
    "df2=pd.DataFrame()\n",
    "df3=pd.DataFrame()\n",
    "df1=pd.read_csv('outputdectlv05_10ar.csv')\n",
    "df2=pd.read_csv('outputdectlv10_27ar.csv')\n",
    "df3=pd.read_csv('outputdectlv05_27.csv')\n",
    "frames = [df1, df2, df3]\n",
    "result = pd.concat(frames,ignore_index=True)"
   ]
  },
  {
   "cell_type": "code",
   "execution_count": 3,
   "id": "079f7205",
   "metadata": {},
   "outputs": [],
   "source": [
    "name = [\"departure.iataCode\",\"departure.gate\",\"arrival.terminal\",\"airline.iataCode\",\"airline.icaoCode\",\"flight.number\",\"flight.iataNumber\",\"flight.icaoNumber\",\"departure.terminal\",\"codeshared.airline.name\",\"codeshared.airline.iataCode\",\"codeshared.flight.number\",\"codeshared.flight.iataNumber\",\"codeshared.flight.icaoNumber\",\"arrival.gate\"]\n",
    "all_df=pd.DataFrame()\n",
    "all_df=result.copy()\n",
    "for val in range(len(name)):\n",
    "    all_df.drop([name[val]], axis = 1,inplace = True)\n",
    "       "
   ]
  },
  {
   "cell_type": "markdown",
   "id": "9d93922d",
   "metadata": {},
   "source": [
    "removing all of our unknown status"
   ]
  },
  {
   "cell_type": "code",
   "execution_count": 13,
   "id": "4794d2b4",
   "metadata": {},
   "outputs": [],
   "source": [
    "all_df.drop(all_df[(all_df['status']=='unknown')].index, inplace=True)\n",
    "\n",
    "all_df.reset_index(inplace=True)\n",
    "del all_df['level_0']\n",
    "del all_df['index']"
   ]
  },
  {
   "cell_type": "markdown",
   "id": "5c4c8487",
   "metadata": {},
   "source": [
    "adding column for cancel in numetric"
   ]
  },
  {
   "cell_type": "code",
   "execution_count": 14,
   "id": "97efdf58",
   "metadata": {},
   "outputs": [],
   "source": [
    "all_df['cancel']=0\n",
    "for i in range(len(all_df)):\n",
    "    if all_df['status'][i]=='cancelled' or all_df['status'][i]=='diverted':\n",
    "        all_df['cancel'][i]=1 \n",
    "all_df['arrival.delay'].fillna(0,inplace=True)\n",
    "all_df['departure.delay'].fillna(0,inplace=True)"
   ]
  },
  {
   "cell_type": "markdown",
   "id": "e4c87c19",
   "metadata": {},
   "source": [
    "importing data for weather"
   ]
  },
  {
   "cell_type": "code",
   "execution_count": 15,
   "id": "a2013d9f",
   "metadata": {},
   "outputs": [],
   "source": [
    "all_df[\"Bad_Weather_today\"]=0"
   ]
  },
  {
   "cell_type": "code",
   "execution_count": 16,
   "id": "cce7cbd9",
   "metadata": {},
   "outputs": [],
   "source": [
    "weather_df=pd.read_csv(\"weatherfrom04to27.csv\")"
   ]
  },
  {
   "cell_type": "code",
   "execution_count": 17,
   "id": "ac616f3a",
   "metadata": {},
   "outputs": [],
   "source": [
    "#remoing all nan rows\n",
    "weather_df.dropna(inplace=True,how ='all')"
   ]
  },
  {
   "cell_type": "code",
   "execution_count": 18,
   "id": "cbc3d8ea",
   "metadata": {},
   "outputs": [],
   "source": [
    "weather_df\n",
    "#saving\n",
    "weather_df.to_csv('check.csv',index=False)\n",
    "weather_df=pd.read_csv(\"check.csv\")"
   ]
  },
  {
   "cell_type": "markdown",
   "id": "a206a73e",
   "metadata": {},
   "source": [
    "adding bad weather to big dataframe"
   ]
  },
  {
   "cell_type": "code",
   "execution_count": 19,
   "id": "82ff2bae",
   "metadata": {},
   "outputs": [],
   "source": [
    "only=pd.DataFrame()\n",
    "only=weather_df.copy()\n",
    "only.drop(only[(only['Bad-Weather_today'] == 0)].index, inplace=True)\n",
    "only=only.reset_index()\n"
   ]
  },
  {
   "cell_type": "code",
   "execution_count": 20,
   "id": "9720e9e8",
   "metadata": {},
   "outputs": [],
   "source": [
    "for i in range(len(all_df)):\n",
    "    location = all_df['departure.icaoCode'][i]\n",
    "    day = all_df['departure.scheduledTime'][i]\n",
    "    \n",
    "    if day[8] == '0':\n",
    "        day = day[9:10]\n",
    "    else:\n",
    "        day = day[8:10]\n",
    "    #print('4' not in  only.values)\n",
    "    for j in range(len(only)):\n",
    "        if day == str(only['day'][j]) and location == only['location'][j]:\n",
    "            all_df[\"Bad_Weather_today\"][i]=only['Bad-Weather_today'][j]\n",
    "    "
   ]
  },
  {
   "cell_type": "markdown",
   "id": "b498bdc4",
   "metadata": {},
   "source": [
    "adding cofficent R of corona"
   ]
  },
  {
   "cell_type": "code",
   "execution_count": 21,
   "id": "44cccf05",
   "metadata": {},
   "outputs": [],
   "source": [
    "R_df=pd.read_csv(\"R.csv\")"
   ]
  },
  {
   "cell_type": "code",
   "execution_count": 22,
   "id": "d5783918",
   "metadata": {},
   "outputs": [],
   "source": [
    "all_df[\"R\"]=0.0"
   ]
  },
  {
   "cell_type": "code",
   "execution_count": 23,
   "id": "9c91a8e2",
   "metadata": {},
   "outputs": [],
   "source": [
    "for i in range(len(all_df)):\n",
    "    day = all_df['departure.scheduledTime'][i]\n",
    "    if day[8] == '0':\n",
    "        day = day[9:10]\n",
    "    else:\n",
    "        day = day[8:10]\n",
    "    #print('4' not in  only.values)\n",
    "    for j in range(len(R_df)):\n",
    "        dayR=str(R_df['date'][j])\n",
    "        if dayR[1] == '/':\n",
    "            dayR = dayR[0:1]\n",
    "        else:\n",
    "            dayR = dayR[0:2]\n",
    "        if day == dayR:\n",
    "            all_df[\"R\"][i]=R_df['R'][j]\n",
    "    "
   ]
  },
  {
   "cell_type": "markdown",
   "id": "9921813c",
   "metadata": {},
   "source": [
    "adding  new sick per day and avg per 7 days"
   ]
  },
  {
   "cell_type": "code",
   "execution_count": 24,
   "id": "dc847f6b",
   "metadata": {},
   "outputs": [],
   "source": [
    "daily_df=pd.read_csv(\"New_daily.csv\")\n",
    "new_result=pd.read_csv('final.csv')"
   ]
  },
  {
   "cell_type": "code",
   "execution_count": 25,
   "id": "413328b5",
   "metadata": {},
   "outputs": [],
   "source": [
    "all_df[\"new_sick_per_day\"]=0\n",
    "all_df[\"avg_for_7_days\"]=0"
   ]
  },
  {
   "cell_type": "code",
   "execution_count": 26,
   "id": "a0314cb8",
   "metadata": {},
   "outputs": [],
   "source": [
    "for i in range(len(all_df)):\n",
    "    day = new_result['departure.scheduledTime'][i]\n",
    "    day = day[8:10]\n",
    "    #print('4' not in  only.values)\n",
    "    for j in range(len(daily_df)):\n",
    "        dayR=str(daily_df['date'][j])\n",
    "        dayR = dayR[0:2]\n",
    "        if day == dayR:\n",
    "            all_df[\"new_sick_per_day\"][i]=str(daily_df['new sick per day'][j])\n",
    "            all_df[\"avg_for_7_days\"][i]=str(daily_df['avg for 7 days'][j])\n",
    "            \n",
    "    "
   ]
  },
  {
   "cell_type": "markdown",
   "id": "46c3b556",
   "metadata": {},
   "source": [
    "adding longitude and latitude for the airports that we have"
   ]
  },
  {
   "cell_type": "code",
   "execution_count": 27,
   "id": "7a6cbade",
   "metadata": {},
   "outputs": [],
   "source": [
    "all_df['longitude']=0.0\n",
    "all_df['latitude']=0.0"
   ]
  },
  {
   "cell_type": "code",
   "execution_count": 28,
   "id": "5d4561d7",
   "metadata": {},
   "outputs": [
    {
     "name": "stdout",
     "output_type": "stream",
     "text": [
      "    location  longitude  latitude\n",
      "0       lebl     2.0783   41.2969\n",
      "1       lirf    12.2389   41.8003\n",
      "2       omdb    55.3644   25.2528\n",
      "3       eham     4.7642   52.3081\n",
      "4       ukbb    30.8933   50.3447\n",
      "..       ...        ...       ...\n",
      "106     lria    27.6208   47.1803\n",
      "107     urrp    39.9247   47.4939\n",
      "108     omdw    55.1756   24.9183\n",
      "109     ukde    35.3150   47.8672\n",
      "110     llbg    34.8856   32.0094\n",
      "\n",
      "[111 rows x 3 columns]\n"
     ]
    }
   ],
   "source": [
    "\n",
    "df_lon=pd.read_csv(\"longitude_data.csv\")\n",
    "print(df_lon)"
   ]
  },
  {
   "cell_type": "code",
   "execution_count": 29,
   "id": "5df56df2",
   "metadata": {},
   "outputs": [],
   "source": [
    "for i in range(len(df_lon)):\n",
    "    for j in range(len(all_df)):\n",
    "         if all_df['departure.icaoCode'][j]==df_lon['location'][i]:\n",
    "            all_df['longitude'][j]=df_lon['longitude'][i]\n",
    "            all_df['latitude'][j]=df_lon['latitude'][i]\n"
   ]
  },
  {
   "cell_type": "markdown",
   "id": "82a93715",
   "metadata": {},
   "source": [
    "adding  column for how many canceltion for each place to dataframe with longitude and latitude"
   ]
  },
  {
   "cell_type": "code",
   "execution_count": 30,
   "id": "d1e86f28",
   "metadata": {},
   "outputs": [],
   "source": [
    "df_lon=pd.read_csv(\"longitude_data.csv\")"
   ]
  },
  {
   "cell_type": "code",
   "execution_count": 31,
   "id": "13d60031",
   "metadata": {},
   "outputs": [
    {
     "name": "stdout",
     "output_type": "stream",
     "text": [
      "  location  longitude  latitude  cancel_counter\n",
      "0     lebl     2.0783   41.2969               0\n",
      "1     lirf    12.2389   41.8003               0\n",
      "2     omdb    55.3644   25.2528               0\n",
      "3     eham     4.7642   52.3081               0\n",
      "4     ukbb    30.8933   50.3447               0\n"
     ]
    }
   ],
   "source": [
    "df_lon['cancel_counter']=0\n",
    "print(df_lon.head())\n",
    "dic=dict()\n",
    "for i in range(len(all_df)):\n",
    "    if all_df['status'][i]== 'cancelled':\n",
    "        df_lon['cancel_counter'][df_lon['location']==all_df['departure.icaoCode'][i]]+=1\n",
    "\n"
   ]
  },
  {
   "cell_type": "markdown",
   "id": "a024865e",
   "metadata": {},
   "source": [
    "clipping for useble Data"
   ]
  },
  {
   "cell_type": "code",
   "execution_count": 32,
   "id": "c628038c",
   "metadata": {},
   "outputs": [],
   "source": [
    "df_lon.sort_values(\"cancel_counter\")\n",
    "#clipping\n",
    "\n",
    "df_lon.replace([85,16,18], 10 , inplace=True)\n",
    "\n"
   ]
  },
  {
   "cell_type": "code",
   "execution_count": 33,
   "id": "e2fbf204",
   "metadata": {},
   "outputs": [
    {
     "data": {
      "text/plain": [
       "0     77\n",
       "1     12\n",
       "2     12\n",
       "10     3\n",
       "3      2\n",
       "4      1\n",
       "7      1\n",
       "6      1\n",
       "8      1\n",
       "5      1\n",
       "Name: cancel_counter, dtype: int64"
      ]
     },
     "execution_count": 33,
     "metadata": {},
     "output_type": "execute_result"
    }
   ],
   "source": [
    "df_lon['cancel_counter'].value_counts()"
   ]
  },
  {
   "cell_type": "markdown",
   "id": "80de3e2f",
   "metadata": {},
   "source": [
    "geopandas"
   ]
  },
  {
   "cell_type": "code",
   "execution_count": 34,
   "id": "666d047e",
   "metadata": {},
   "outputs": [
    {
     "data": {
      "text/html": [
       "<div>\n",
       "<style scoped>\n",
       "    .dataframe tbody tr th:only-of-type {\n",
       "        vertical-align: middle;\n",
       "    }\n",
       "\n",
       "    .dataframe tbody tr th {\n",
       "        vertical-align: top;\n",
       "    }\n",
       "\n",
       "    .dataframe thead th {\n",
       "        text-align: right;\n",
       "    }\n",
       "</style>\n",
       "<table border=\"1\" class=\"dataframe\">\n",
       "  <thead>\n",
       "    <tr style=\"text-align: right;\">\n",
       "      <th></th>\n",
       "      <th>pop_est</th>\n",
       "      <th>continent</th>\n",
       "      <th>name</th>\n",
       "      <th>iso_a3</th>\n",
       "      <th>gdp_md_est</th>\n",
       "      <th>geometry</th>\n",
       "    </tr>\n",
       "  </thead>\n",
       "  <tbody>\n",
       "    <tr>\n",
       "      <th>0</th>\n",
       "      <td>920938</td>\n",
       "      <td>Oceania</td>\n",
       "      <td>Fiji</td>\n",
       "      <td>FJI</td>\n",
       "      <td>8374.0</td>\n",
       "      <td>MULTIPOLYGON (((180.00000 -16.06713, 180.00000...</td>\n",
       "    </tr>\n",
       "    <tr>\n",
       "      <th>1</th>\n",
       "      <td>53950935</td>\n",
       "      <td>Africa</td>\n",
       "      <td>Tanzania</td>\n",
       "      <td>TZA</td>\n",
       "      <td>150600.0</td>\n",
       "      <td>POLYGON ((33.90371 -0.95000, 34.07262 -1.05982...</td>\n",
       "    </tr>\n",
       "    <tr>\n",
       "      <th>2</th>\n",
       "      <td>603253</td>\n",
       "      <td>Africa</td>\n",
       "      <td>W. Sahara</td>\n",
       "      <td>ESH</td>\n",
       "      <td>906.5</td>\n",
       "      <td>POLYGON ((-8.66559 27.65643, -8.66512 27.58948...</td>\n",
       "    </tr>\n",
       "    <tr>\n",
       "      <th>3</th>\n",
       "      <td>35623680</td>\n",
       "      <td>North America</td>\n",
       "      <td>Canada</td>\n",
       "      <td>CAN</td>\n",
       "      <td>1674000.0</td>\n",
       "      <td>MULTIPOLYGON (((-122.84000 49.00000, -122.9742...</td>\n",
       "    </tr>\n",
       "    <tr>\n",
       "      <th>4</th>\n",
       "      <td>326625791</td>\n",
       "      <td>North America</td>\n",
       "      <td>United States of America</td>\n",
       "      <td>USA</td>\n",
       "      <td>18560000.0</td>\n",
       "      <td>MULTIPOLYGON (((-122.84000 49.00000, -120.0000...</td>\n",
       "    </tr>\n",
       "  </tbody>\n",
       "</table>\n",
       "</div>"
      ],
      "text/plain": [
       "     pop_est      continent                      name iso_a3  gdp_md_est  \\\n",
       "0     920938        Oceania                      Fiji    FJI      8374.0   \n",
       "1   53950935         Africa                  Tanzania    TZA    150600.0   \n",
       "2     603253         Africa                 W. Sahara    ESH       906.5   \n",
       "3   35623680  North America                    Canada    CAN   1674000.0   \n",
       "4  326625791  North America  United States of America    USA  18560000.0   \n",
       "\n",
       "                                            geometry  \n",
       "0  MULTIPOLYGON (((180.00000 -16.06713, 180.00000...  \n",
       "1  POLYGON ((33.90371 -0.95000, 34.07262 -1.05982...  \n",
       "2  POLYGON ((-8.66559 27.65643, -8.66512 27.58948...  \n",
       "3  MULTIPOLYGON (((-122.84000 49.00000, -122.9742...  \n",
       "4  MULTIPOLYGON (((-122.84000 49.00000, -120.0000...  "
      ]
     },
     "execution_count": 34,
     "metadata": {},
     "output_type": "execute_result"
    }
   ],
   "source": [
    "countries = gpd.read_file(\n",
    "               gpd.datasets.get_path(\"naturalearth_lowres\"))\n",
    "countries.head()"
   ]
  },
  {
   "cell_type": "code",
   "execution_count": 35,
   "id": "144990ba",
   "metadata": {},
   "outputs": [
    {
     "data": {
      "text/plain": [
       "<AxesSubplot:xlabel='longitude', ylabel='latitude'>"
      ]
     },
     "execution_count": 35,
     "metadata": {},
     "output_type": "execute_result"
    },
    {
     "data": {
      "image/png": "[encoded data removed]",
      "text/plain": [
       "<Figure size 1080x1080 with 1 Axes>"
      ]
     },
     "metadata": {
      "needs_background": "light"
     },
     "output_type": "display_data"
    }
   ],
   "source": [
    "fig, ax = plt.subplots(figsize=(15,15))\n",
    "ax.set_facecolor('DarkBlue')\n",
    "countries.plot(color=\"darkgreen\",ax=ax)\n",
    "val = max(abs(df_lon['cancel_counter'].quantile(q=0.05)), abs(df_lon['cancel_counter'].quantile(q=0.95)))\n",
    "sns.scatterplot(data=df_lon,x='longitude',y='latitude',hue='cancel_counter',hue_norm=(-val,val),palette=\"plasma\", ax=ax)"
   ]
  },
  {
   "cell_type": "code",
   "execution_count": 36,
   "id": "1dd8b8fd",
   "metadata": {},
   "outputs": [
    {
     "data": {
      "text/html": [
       "<div>\n",
       "<style scoped>\n",
       "    .dataframe tbody tr th:only-of-type {\n",
       "        vertical-align: middle;\n",
       "    }\n",
       "\n",
       "    .dataframe tbody tr th {\n",
       "        vertical-align: top;\n",
       "    }\n",
       "\n",
       "    .dataframe thead th {\n",
       "        text-align: right;\n",
       "    }\n",
       "</style>\n",
       "<table border=\"1\" class=\"dataframe\">\n",
       "  <thead>\n",
       "    <tr style=\"text-align: right;\">\n",
       "      <th></th>\n",
       "      <th>type</th>\n",
       "      <th>status</th>\n",
       "      <th>departure.icaoCode</th>\n",
       "      <th>departure.delay</th>\n",
       "      <th>departure.scheduledTime</th>\n",
       "      <th>departure.estimatedTime</th>\n",
       "      <th>departure.actualTime</th>\n",
       "      <th>departure.estimatedRunway</th>\n",
       "      <th>departure.actualRunway</th>\n",
       "      <th>arrival.iataCode</th>\n",
       "      <th>...</th>\n",
       "      <th>codeshared.airline.icaoCode</th>\n",
       "      <th>arrival.delay</th>\n",
       "      <th>arrival.baggage</th>\n",
       "      <th>R</th>\n",
       "      <th>new_sick_per_day</th>\n",
       "      <th>avg_for_7_days</th>\n",
       "      <th>longitude</th>\n",
       "      <th>latitude</th>\n",
       "      <th>cancel</th>\n",
       "      <th>Bad_Weather_today</th>\n",
       "    </tr>\n",
       "  </thead>\n",
       "  <tbody>\n",
       "    <tr>\n",
       "      <th>0</th>\n",
       "      <td>arrival</td>\n",
       "      <td>landed</td>\n",
       "      <td>lebl</td>\n",
       "      <td>11.0</td>\n",
       "      <td>2021-12-04t20:55:00.000</td>\n",
       "      <td>2021-12-04t20:55:00.000</td>\n",
       "      <td>2021-12-04t21:05:00.000</td>\n",
       "      <td>2021-12-04t21:05:00.000</td>\n",
       "      <td>2021-12-04t21:05:00.000</td>\n",
       "      <td>tlv</td>\n",
       "      <td>...</td>\n",
       "      <td>ely</td>\n",
       "      <td>0.0</td>\n",
       "      <td>NaN</td>\n",
       "      <td>1.02</td>\n",
       "      <td>248</td>\n",
       "      <td>507</td>\n",
       "      <td>2.0783</td>\n",
       "      <td>41.2969</td>\n",
       "      <td>0</td>\n",
       "      <td>0</td>\n",
       "    </tr>\n",
       "    <tr>\n",
       "      <th>1</th>\n",
       "      <td>arrival</td>\n",
       "      <td>landed</td>\n",
       "      <td>lebl</td>\n",
       "      <td>11.0</td>\n",
       "      <td>2021-12-04t20:55:00.000</td>\n",
       "      <td>2021-12-04t20:55:00.000</td>\n",
       "      <td>2021-12-04t21:05:00.000</td>\n",
       "      <td>2021-12-04t21:05:00.000</td>\n",
       "      <td>2021-12-04t21:05:00.000</td>\n",
       "      <td>tlv</td>\n",
       "      <td>...</td>\n",
       "      <td>NaN</td>\n",
       "      <td>0.0</td>\n",
       "      <td>NaN</td>\n",
       "      <td>1.02</td>\n",
       "      <td>248</td>\n",
       "      <td>507</td>\n",
       "      <td>2.0783</td>\n",
       "      <td>41.2969</td>\n",
       "      <td>0</td>\n",
       "      <td>0</td>\n",
       "    </tr>\n",
       "    <tr>\n",
       "      <th>2</th>\n",
       "      <td>arrival</td>\n",
       "      <td>scheduled</td>\n",
       "      <td>lirf</td>\n",
       "      <td>0.0</td>\n",
       "      <td>2021-12-04t21:50:00.000</td>\n",
       "      <td>NaN</td>\n",
       "      <td>NaN</td>\n",
       "      <td>NaN</td>\n",
       "      <td>NaN</td>\n",
       "      <td>tlv</td>\n",
       "      <td>...</td>\n",
       "      <td>NaN</td>\n",
       "      <td>0.0</td>\n",
       "      <td>NaN</td>\n",
       "      <td>1.02</td>\n",
       "      <td>248</td>\n",
       "      <td>507</td>\n",
       "      <td>12.2389</td>\n",
       "      <td>41.8003</td>\n",
       "      <td>0</td>\n",
       "      <td>0</td>\n",
       "    </tr>\n",
       "    <tr>\n",
       "      <th>3</th>\n",
       "      <td>arrival</td>\n",
       "      <td>landed</td>\n",
       "      <td>omdb</td>\n",
       "      <td>14.0</td>\n",
       "      <td>2021-12-05t00:25:00.000</td>\n",
       "      <td>2021-12-05t00:40:00.000</td>\n",
       "      <td>2021-12-05t00:39:00.000</td>\n",
       "      <td>2021-12-05t00:39:00.000</td>\n",
       "      <td>2021-12-05t00:39:00.000</td>\n",
       "      <td>tlv</td>\n",
       "      <td>...</td>\n",
       "      <td>NaN</td>\n",
       "      <td>0.0</td>\n",
       "      <td>NaN</td>\n",
       "      <td>1.03</td>\n",
       "      <td>539</td>\n",
       "      <td>519</td>\n",
       "      <td>55.3644</td>\n",
       "      <td>25.2528</td>\n",
       "      <td>0</td>\n",
       "      <td>0</td>\n",
       "    </tr>\n",
       "    <tr>\n",
       "      <th>4</th>\n",
       "      <td>arrival</td>\n",
       "      <td>landed</td>\n",
       "      <td>eham</td>\n",
       "      <td>8.0</td>\n",
       "      <td>2021-12-04t20:55:00.000</td>\n",
       "      <td>2021-12-04t20:55:00.000</td>\n",
       "      <td>2021-12-04t21:02:00.000</td>\n",
       "      <td>2021-12-04t21:02:00.000</td>\n",
       "      <td>2021-12-04t21:02:00.000</td>\n",
       "      <td>tlv</td>\n",
       "      <td>...</td>\n",
       "      <td>klm</td>\n",
       "      <td>0.0</td>\n",
       "      <td>NaN</td>\n",
       "      <td>1.02</td>\n",
       "      <td>248</td>\n",
       "      <td>507</td>\n",
       "      <td>4.7642</td>\n",
       "      <td>52.3081</td>\n",
       "      <td>0</td>\n",
       "      <td>0</td>\n",
       "    </tr>\n",
       "    <tr>\n",
       "      <th>...</th>\n",
       "      <td>...</td>\n",
       "      <td>...</td>\n",
       "      <td>...</td>\n",
       "      <td>...</td>\n",
       "      <td>...</td>\n",
       "      <td>...</td>\n",
       "      <td>...</td>\n",
       "      <td>...</td>\n",
       "      <td>...</td>\n",
       "      <td>...</td>\n",
       "      <td>...</td>\n",
       "      <td>...</td>\n",
       "      <td>...</td>\n",
       "      <td>...</td>\n",
       "      <td>...</td>\n",
       "      <td>...</td>\n",
       "      <td>...</td>\n",
       "      <td>...</td>\n",
       "      <td>...</td>\n",
       "      <td>...</td>\n",
       "      <td>...</td>\n",
       "    </tr>\n",
       "    <tr>\n",
       "      <th>7777</th>\n",
       "      <td>departure</td>\n",
       "      <td>active</td>\n",
       "      <td>llbg</td>\n",
       "      <td>7.0</td>\n",
       "      <td>2021-12-27t15:20:00.000</td>\n",
       "      <td>NaN</td>\n",
       "      <td>2021-12-27t15:26:00.000</td>\n",
       "      <td>2021-12-27t15:26:00.000</td>\n",
       "      <td>2021-12-27t15:26:00.000</td>\n",
       "      <td>bru</td>\n",
       "      <td>...</td>\n",
       "      <td>NaN</td>\n",
       "      <td>0.0</td>\n",
       "      <td>NaN</td>\n",
       "      <td>2.05</td>\n",
       "      <td>2976</td>\n",
       "      <td>1409</td>\n",
       "      <td>34.8856</td>\n",
       "      <td>32.0094</td>\n",
       "      <td>0</td>\n",
       "      <td>0</td>\n",
       "    </tr>\n",
       "    <tr>\n",
       "      <th>7778</th>\n",
       "      <td>departure</td>\n",
       "      <td>active</td>\n",
       "      <td>llbg</td>\n",
       "      <td>15.0</td>\n",
       "      <td>2021-12-27t20:20:00.000</td>\n",
       "      <td>2021-12-27t20:35:00.000</td>\n",
       "      <td>NaN</td>\n",
       "      <td>NaN</td>\n",
       "      <td>NaN</td>\n",
       "      <td>lej</td>\n",
       "      <td>...</td>\n",
       "      <td>NaN</td>\n",
       "      <td>0.0</td>\n",
       "      <td>NaN</td>\n",
       "      <td>2.05</td>\n",
       "      <td>2976</td>\n",
       "      <td>1409</td>\n",
       "      <td>34.8856</td>\n",
       "      <td>32.0094</td>\n",
       "      <td>0</td>\n",
       "      <td>0</td>\n",
       "    </tr>\n",
       "    <tr>\n",
       "      <th>7779</th>\n",
       "      <td>departure</td>\n",
       "      <td>active</td>\n",
       "      <td>llbg</td>\n",
       "      <td>11.0</td>\n",
       "      <td>2021-12-27t21:12:00.000</td>\n",
       "      <td>2021-12-27t21:27:00.000</td>\n",
       "      <td>2021-12-27t21:22:00.000</td>\n",
       "      <td>2021-12-27t21:22:00.000</td>\n",
       "      <td>2021-12-27t21:22:00.000</td>\n",
       "      <td>cgn</td>\n",
       "      <td>...</td>\n",
       "      <td>NaN</td>\n",
       "      <td>4.0</td>\n",
       "      <td>NaN</td>\n",
       "      <td>2.05</td>\n",
       "      <td>2976</td>\n",
       "      <td>1409</td>\n",
       "      <td>34.8856</td>\n",
       "      <td>32.0094</td>\n",
       "      <td>0</td>\n",
       "      <td>0</td>\n",
       "    </tr>\n",
       "    <tr>\n",
       "      <th>7780</th>\n",
       "      <td>departure</td>\n",
       "      <td>active</td>\n",
       "      <td>llbg</td>\n",
       "      <td>24.0</td>\n",
       "      <td>2021-12-27t22:05:00.000</td>\n",
       "      <td>2021-12-27t22:20:00.000</td>\n",
       "      <td>2021-12-27t22:29:00.000</td>\n",
       "      <td>2021-12-27t22:29:00.000</td>\n",
       "      <td>2021-12-27t22:29:00.000</td>\n",
       "      <td>saw</td>\n",
       "      <td>...</td>\n",
       "      <td>NaN</td>\n",
       "      <td>1.0</td>\n",
       "      <td>NaN</td>\n",
       "      <td>2.05</td>\n",
       "      <td>2976</td>\n",
       "      <td>1409</td>\n",
       "      <td>34.8856</td>\n",
       "      <td>32.0094</td>\n",
       "      <td>0</td>\n",
       "      <td>0</td>\n",
       "    </tr>\n",
       "    <tr>\n",
       "      <th>7781</th>\n",
       "      <td>departure</td>\n",
       "      <td>active</td>\n",
       "      <td>llbg</td>\n",
       "      <td>13.0</td>\n",
       "      <td>2021-12-27t20:20:00.000</td>\n",
       "      <td>NaN</td>\n",
       "      <td>2021-12-27t20:32:00.000</td>\n",
       "      <td>2021-12-27t20:32:00.000</td>\n",
       "      <td>2021-12-27t20:32:00.000</td>\n",
       "      <td>lej</td>\n",
       "      <td>...</td>\n",
       "      <td>NaN</td>\n",
       "      <td>0.0</td>\n",
       "      <td>NaN</td>\n",
       "      <td>2.05</td>\n",
       "      <td>2976</td>\n",
       "      <td>1409</td>\n",
       "      <td>34.8856</td>\n",
       "      <td>32.0094</td>\n",
       "      <td>0</td>\n",
       "      <td>0</td>\n",
       "    </tr>\n",
       "  </tbody>\n",
       "</table>\n",
       "<p>7782 rows × 27 columns</p>\n",
       "</div>"
      ],
      "text/plain": [
       "           type     status departure.icaoCode  departure.delay  \\\n",
       "0       arrival     landed               lebl             11.0   \n",
       "1       arrival     landed               lebl             11.0   \n",
       "2       arrival  scheduled               lirf              0.0   \n",
       "3       arrival     landed               omdb             14.0   \n",
       "4       arrival     landed               eham              8.0   \n",
       "...         ...        ...                ...              ...   \n",
       "7777  departure     active               llbg              7.0   \n",
       "7778  departure     active               llbg             15.0   \n",
       "7779  departure     active               llbg             11.0   \n",
       "7780  departure     active               llbg             24.0   \n",
       "7781  departure     active               llbg             13.0   \n",
       "\n",
       "      departure.scheduledTime  departure.estimatedTime  \\\n",
       "0     2021-12-04t20:55:00.000  2021-12-04t20:55:00.000   \n",
       "1     2021-12-04t20:55:00.000  2021-12-04t20:55:00.000   \n",
       "2     2021-12-04t21:50:00.000                      NaN   \n",
       "3     2021-12-05t00:25:00.000  2021-12-05t00:40:00.000   \n",
       "4     2021-12-04t20:55:00.000  2021-12-04t20:55:00.000   \n",
       "...                       ...                      ...   \n",
       "7777  2021-12-27t15:20:00.000                      NaN   \n",
       "7778  2021-12-27t20:20:00.000  2021-12-27t20:35:00.000   \n",
       "7779  2021-12-27t21:12:00.000  2021-12-27t21:27:00.000   \n",
       "7780  2021-12-27t22:05:00.000  2021-12-27t22:20:00.000   \n",
       "7781  2021-12-27t20:20:00.000                      NaN   \n",
       "\n",
       "         departure.actualTime departure.estimatedRunway  \\\n",
       "0     2021-12-04t21:05:00.000   2021-12-04t21:05:00.000   \n",
       "1     2021-12-04t21:05:00.000   2021-12-04t21:05:00.000   \n",
       "2                         NaN                       NaN   \n",
       "3     2021-12-05t00:39:00.000   2021-12-05t00:39:00.000   \n",
       "4     2021-12-04t21:02:00.000   2021-12-04t21:02:00.000   \n",
       "...                       ...                       ...   \n",
       "7777  2021-12-27t15:26:00.000   2021-12-27t15:26:00.000   \n",
       "7778                      NaN                       NaN   \n",
       "7779  2021-12-27t21:22:00.000   2021-12-27t21:22:00.000   \n",
       "7780  2021-12-27t22:29:00.000   2021-12-27t22:29:00.000   \n",
       "7781  2021-12-27t20:32:00.000   2021-12-27t20:32:00.000   \n",
       "\n",
       "       departure.actualRunway arrival.iataCode  ...  \\\n",
       "0     2021-12-04t21:05:00.000              tlv  ...   \n",
       "1     2021-12-04t21:05:00.000              tlv  ...   \n",
       "2                         NaN              tlv  ...   \n",
       "3     2021-12-05t00:39:00.000              tlv  ...   \n",
       "4     2021-12-04t21:02:00.000              tlv  ...   \n",
       "...                       ...              ...  ...   \n",
       "7777  2021-12-27t15:26:00.000              bru  ...   \n",
       "7778                      NaN              lej  ...   \n",
       "7779  2021-12-27t21:22:00.000              cgn  ...   \n",
       "7780  2021-12-27t22:29:00.000              saw  ...   \n",
       "7781  2021-12-27t20:32:00.000              lej  ...   \n",
       "\n",
       "     codeshared.airline.icaoCode arrival.delay arrival.baggage     R  \\\n",
       "0                            ely           0.0             NaN  1.02   \n",
       "1                            NaN           0.0             NaN  1.02   \n",
       "2                            NaN           0.0             NaN  1.02   \n",
       "3                            NaN           0.0             NaN  1.03   \n",
       "4                            klm           0.0             NaN  1.02   \n",
       "...                          ...           ...             ...   ...   \n",
       "7777                         NaN           0.0             NaN  2.05   \n",
       "7778                         NaN           0.0             NaN  2.05   \n",
       "7779                         NaN           4.0             NaN  2.05   \n",
       "7780                         NaN           1.0             NaN  2.05   \n",
       "7781                         NaN           0.0             NaN  2.05   \n",
       "\n",
       "     new_sick_per_day avg_for_7_days longitude latitude  cancel  \\\n",
       "0                 248            507    2.0783  41.2969       0   \n",
       "1                 248            507    2.0783  41.2969       0   \n",
       "2                 248            507   12.2389  41.8003       0   \n",
       "3                 539            519   55.3644  25.2528       0   \n",
       "4                 248            507    4.7642  52.3081       0   \n",
       "...               ...            ...       ...      ...     ...   \n",
       "7777             2976           1409   34.8856  32.0094       0   \n",
       "7778             2976           1409   34.8856  32.0094       0   \n",
       "7779             2976           1409   34.8856  32.0094       0   \n",
       "7780             2976           1409   34.8856  32.0094       0   \n",
       "7781             2976           1409   34.8856  32.0094       0   \n",
       "\n",
       "     Bad_Weather_today  \n",
       "0                    0  \n",
       "1                    0  \n",
       "2                    0  \n",
       "3                    0  \n",
       "4                    0  \n",
       "...                ...  \n",
       "7777                 0  \n",
       "7778                 0  \n",
       "7779                 0  \n",
       "7780                 0  \n",
       "7781                 0  \n",
       "\n",
       "[7782 rows x 27 columns]"
      ]
     },
     "execution_count": 36,
     "metadata": {},
     "output_type": "execute_result"
    }
   ],
   "source": [
    "all_df"
   ]
  },
  {
   "cell_type": "markdown",
   "id": "b25437d3",
   "metadata": {},
   "source": [
    "vialuztion for all of our data"
   ]
  },
  {
   "cell_type": "code",
   "execution_count": 37,
   "id": "ff2c4e10",
   "metadata": {},
   "outputs": [],
   "source": [
    "df_contius=all_df[['Bad_Weather_today','new_sick_per_day','avg_for_7_days','longitude','latitude']]"
   ]
  },
  {
   "cell_type": "code",
   "execution_count": 38,
   "id": "d44151ae",
   "metadata": {},
   "outputs": [
    {
     "data": {
      "image/png": "[encoded data removed]",
      "text/plain": [
       "<Figure size 1440x2160 with 6 Axes>"
      ]
     },
     "metadata": {
      "needs_background": "light"
     },
     "output_type": "display_data"
    }
   ],
   "source": [
    "# sns.scatterplot(data=new_result,x='R',y='new_sick_per_day')\n",
    "ig,axs=plt.subplots(3,2,figsize=(20,30))\n",
    "axs = axs.ravel()\n",
    "pd.set_option(\"display.max_columns\",None)\n",
    "for i, col in enumerate(df_contius):\n",
    "    axs[i].set_title(col)\n",
    "    sns.kdeplot(data = all_df[col], ax = axs[i], linewidth = 5)\n",
    "    sns.despine()"
   ]
  },
  {
   "cell_type": "code",
   "execution_count": 39,
   "id": "869cb752",
   "metadata": {},
   "outputs": [],
   "source": [
    "all_df['cancel']=0\n",
    "for i in range(len(all_df)):\n",
    "    if all_df['status'][i]=='cancelled' or all_df['status'][i]=='diverted':\n",
    "        all_df['cancel'][i]=1 \n",
    "all_df['arrival.delay'].fillna(0,inplace=True)\n",
    "all_df['departure.delay'].fillna(0,inplace=True)"
   ]
  },
  {
   "cell_type": "markdown",
   "id": "883a874c",
   "metadata": {},
   "source": [
    "checking for corletion"
   ]
  },
  {
   "cell_type": "code",
   "execution_count": 40,
   "id": "65790a6e",
   "metadata": {},
   "outputs": [
    {
     "data": {
      "text/plain": [
       "(-0.0010683843251121858, 0.9249239924255103)"
      ]
     },
     "execution_count": 40,
     "metadata": {},
     "output_type": "execute_result"
    }
   ],
   "source": [
    "stats.pearsonr(all_df['arrival.delay'],all_df['R'] )"
   ]
  },
  {
   "cell_type": "markdown",
   "id": "35200cc8",
   "metadata": {},
   "source": [
    "Prepering data for machine learning"
   ]
  },
  {
   "cell_type": "code",
   "execution_count": 41,
   "id": "acb2f29e",
   "metadata": {},
   "outputs": [],
   "source": [
    "df=pd.DataFrame()\n",
    "df=new_result.copy()\n",
    "df.drop(['type', 'status','departure.icaoCode','departure.scheduledTime', 'departure.estimatedTime',\n",
    "       'departure.actualTime', 'departure.estimatedRunway',\n",
    "       'departure.actualRunway', 'arrival.iataCode', 'arrival.icaoCode',\n",
    "       'arrival.scheduledTime', 'arrival.estimatedTime', 'arrival.actualTime',\n",
    "       'arrival.estimatedRunway', 'arrival.actualRunway', 'airline.name',\n",
    "       'codeshared.airline.icaoCode', 'arrival.baggage','avg_for_7_days',\n",
    "       'longitude', 'latitude','departure.delay','arrival.delay','new_sick_per_day'],axis=1,inplace=True)"
   ]
  },
  {
   "cell_type": "markdown",
   "id": "4cd119aa",
   "metadata": {},
   "source": [
    "Checking for the best SEED"
   ]
  },
  {
   "cell_type": "code",
   "execution_count": null,
   "id": "4ed1ee03",
   "metadata": {},
   "outputs": [],
   "source": [
    "scaler = StandardScaler()\n",
    "max1=0\n",
    "max2=0\n",
    "max3=0\n",
    "j=0\n",
    "for i in range(1000000):\n",
    "    xtrain,xtest,ytrain,ytest=train_test_split(df.drop('cancel',axis=1),df['cancel'],random_state=i)\n",
    "    model= LogisticRegression(max_iter=100 )\n",
    "    model.fit(xtrain,ytrain)\n",
    "    acc=model.score(xtest,ytest)\n",
    "    ypred=model.predict(xtest)\n",
    "    cnf_matrix = metrics.confusion_matrix(ytest, ypred)\n",
    "    if  max3 < metrics.recall_score(ytest, ypred):\n",
    "        max1 = metrics.accuracy_score(ytest, ypred)\n",
    "        max2 = metrics.precision_score(ytest, ypred)\n",
    "        max3 = metrics.recall_score(ytest, ypred)\n",
    "        print(metrics.recall_score(ytest, ypred))\n",
    "        j=i\n",
    "        print(j)\n",
    "print(\"Accuracy:\",max1)\n",
    "print(\"Precision:\",max2)\n",
    "print(\"Recall:\",max3)\n",
    "print(j)"
   ]
  },
  {
   "cell_type": "code",
   "execution_count": 42,
   "id": "90102f93",
   "metadata": {},
   "outputs": [],
   "source": [
    "xtrain,xtest,ytrain,ytest=train_test_split(df.drop('cancel',axis=1),df['cancel'],random_state=293488)\n",
    "  "
   ]
  },
  {
   "cell_type": "markdown",
   "id": "8179d94f",
   "metadata": {},
   "source": [
    "Creating Model"
   ]
  },
  {
   "cell_type": "code",
   "execution_count": 43,
   "id": "aabc9445",
   "metadata": {},
   "outputs": [
    {
     "name": "stdout",
     "output_type": "stream",
     "text": [
      "accuracy is 0.987667009249743\n"
     ]
    }
   ],
   "source": [
    "model= LogisticRegression(max_iter=100)\n",
    "model.fit(xtrain,ytrain)\n",
    "acc=model.score(xtest,ytest)\n",
    "ypred=model.predict(xtest)\n",
    "print(f\"accuracy is {acc}\")"
   ]
  },
  {
   "cell_type": "markdown",
   "id": "3b17d4f0",
   "metadata": {},
   "source": [
    "Checking our Accuracy,Precision,Recall"
   ]
  },
  {
   "cell_type": "code",
   "execution_count": 44,
   "id": "cb089da5",
   "metadata": {},
   "outputs": [
    {
     "name": "stdout",
     "output_type": "stream",
     "text": [
      "Accuracy: 0.987667009249743\n",
      "Precision: 1.0\n",
      "Recall: 0.4418604651162791\n"
     ]
    }
   ],
   "source": [
    "print(\"Accuracy:\",metrics.accuracy_score(ytest, ypred))\n",
    "print(\"Precision:\",metrics.precision_score(ytest, ypred))\n",
    "print(\"Recall:\",metrics.recall_score(ytest, ypred))"
   ]
  },
  {
   "cell_type": "markdown",
   "id": "25f9cea1",
   "metadata": {},
   "source": [
    "Creating Roc Curve"
   ]
  },
  {
   "cell_type": "code",
   "execution_count": 45,
   "id": "50e75a1b",
   "metadata": {},
   "outputs": [
    {
     "data": {
      "image/png": "[encoded data removed]",
      "text/plain": [
       "<Figure size 432x288 with 1 Axes>"
      ]
     },
     "metadata": {
      "needs_background": "light"
     },
     "output_type": "display_data"
    }
   ],
   "source": [
    "y_pred_proba = model.predict_proba(xtest)[::,1]\n",
    "fpr, tpr, _ = metrics.roc_curve(ytest,  y_pred_proba)\n",
    "auc = metrics.roc_auc_score(ytest, y_pred_proba)\n",
    "aucmean=auc.mean()\n",
    "plt.plot(fpr,tpr,label=\"data: %.4f \"%auc,color ='navy')\n",
    "plt.axline([0, 0],slope=1,color='Red',ls=':',marker='o')\n",
    "plt.legend(loc=4)\n",
    "plt.xlabel('False Positive Rate')\n",
    "plt.ylabel('True Positive Rate')\n",
    "plt.title('ROC curve , AUC = %.4f'%auc)\n",
    "plt.show()"
   ]
  },
  {
   "cell_type": "markdown",
   "id": "af673440",
   "metadata": {},
   "source": [
    "Total Report for our classification"
   ]
  },
  {
   "cell_type": "code",
   "execution_count": 46,
   "id": "4d4695ef",
   "metadata": {},
   "outputs": [
    {
     "name": "stdout",
     "output_type": "stream",
     "text": [
      "              precision    recall  f1-score   support\n",
      "\n",
      "           0       0.99      1.00      0.99      1903\n",
      "           1       1.00      0.44      0.61        43\n",
      "\n",
      "    accuracy                           0.99      1946\n",
      "   macro avg       0.99      0.72      0.80      1946\n",
      "weighted avg       0.99      0.99      0.99      1946\n",
      "\n"
     ]
    }
   ],
   "source": [
    "print(classification_report(ytest, ypred))"
   ]
  },
  {
   "cell_type": "markdown",
   "id": "63ed47db",
   "metadata": {},
   "source": [
    "Histograms"
   ]
  },
  {
   "cell_type": "code",
   "execution_count": 47,
   "id": "96aac6ce",
   "metadata": {},
   "outputs": [
    {
     "data": {
      "image/png": "[encoded data removed]",
      "text/plain": [
       "<Figure size 1440x1440 with 3 Axes>"
      ]
     },
     "metadata": {
      "needs_background": "light"
     },
     "output_type": "display_data"
    }
   ],
   "source": [
    "import matplotlib.colors as mcolors\n",
    "colors = list(mcolors.CSS4_COLORS.keys())[10:]\n",
    "def draw_histograms(dataframe, features, rows, cols):\n",
    "    fig=plt.figure(figsize=(20,20))\n",
    "    for i, feature in enumerate(features):\n",
    "        ax=fig.add_subplot(rows,cols,i+1)\n",
    "        dataframe[feature].hist(bins=20,ax=ax,facecolor=colors[i])\n",
    "        ax.set_title(feature+\" Histogram\",color=colors[35])\n",
    "        ax.set_yscale('log')\n",
    "    fig.tight_layout() \n",
    "    plt.savefig('Histograms.png')\n",
    "    plt.show()\n",
    "draw_histograms(df,df.columns,8,4)"
   ]
  },
  {
   "cell_type": "markdown",
   "id": "f04ccf6c",
   "metadata": {},
   "source": [
    "Creating a plot for two different machine learning models \"Random Forest\" vs. \"Logistic Regression\""
   ]
  },
  {
   "cell_type": "code",
   "execution_count": 48,
   "id": "27fc8fd5",
   "metadata": {},
   "outputs": [],
   "source": [
    "models = {}\n",
    "models['Logistic Regression'] = LogisticRegression()\n",
    "models['Random Forest'] = RandomForestClassifier()"
   ]
  },
  {
   "cell_type": "code",
   "execution_count": 49,
   "id": "7fbf408f",
   "metadata": {},
   "outputs": [],
   "source": [
    "\n",
    "accuracy, precision, recall = {}, {}, {}\n",
    "\n",
    "for key in models.keys():\n",
    "    models[key].fit(xtrain, ytrain)\n",
    "    predictions = models[key].predict(xtest)\n",
    "    accuracy[key] = metrics.accuracy_score(ytest, ypred)\n",
    "    precision[key] = metrics.precision_score(ytest, ypred)\n",
    "    recall[key] = metrics.recall_score(ytest, ypred)"
   ]
  },
  {
   "cell_type": "code",
   "execution_count": 50,
   "id": "7d5ba6f3",
   "metadata": {},
   "outputs": [
    {
     "data": {
      "text/html": [
       "<div>\n",
       "<style scoped>\n",
       "    .dataframe tbody tr th:only-of-type {\n",
       "        vertical-align: middle;\n",
       "    }\n",
       "\n",
       "    .dataframe tbody tr th {\n",
       "        vertical-align: top;\n",
       "    }\n",
       "\n",
       "    .dataframe thead th {\n",
       "        text-align: right;\n",
       "    }\n",
       "</style>\n",
       "<table border=\"1\" class=\"dataframe\">\n",
       "  <thead>\n",
       "    <tr style=\"text-align: right;\">\n",
       "      <th></th>\n",
       "      <th>Accuracy</th>\n",
       "      <th>Precision</th>\n",
       "      <th>Recall</th>\n",
       "    </tr>\n",
       "  </thead>\n",
       "  <tbody>\n",
       "    <tr>\n",
       "      <th>Logistic Regression</th>\n",
       "      <td>0.987667</td>\n",
       "      <td>1.0</td>\n",
       "      <td>0.44186</td>\n",
       "    </tr>\n",
       "    <tr>\n",
       "      <th>Random Forest</th>\n",
       "      <td>0.987667</td>\n",
       "      <td>1.0</td>\n",
       "      <td>0.44186</td>\n",
       "    </tr>\n",
       "  </tbody>\n",
       "</table>\n",
       "</div>"
      ],
      "text/plain": [
       "                     Accuracy  Precision   Recall\n",
       "Logistic Regression  0.987667        1.0  0.44186\n",
       "Random Forest        0.987667        1.0  0.44186"
      ]
     },
     "execution_count": 50,
     "metadata": {},
     "output_type": "execute_result"
    }
   ],
   "source": [
    "df_model = pd.DataFrame(index=models.keys(), columns=['Accuracy', 'Precision', 'Recall'])\n",
    "df_model['Accuracy'] = accuracy.values()\n",
    "df_model['Precision'] = precision.values()\n",
    "df_model['Recall'] = recall.values()\n",
    "\n",
    "df_model"
   ]
  },
  {
   "cell_type": "code",
   "execution_count": 51,
   "id": "3dc95bf2",
   "metadata": {},
   "outputs": [
    {
     "data": {
      "image/png": "[encoded data removed]",
      "text/plain": [
       "<Figure size 432x288 with 1 Axes>"
      ]
     },
     "metadata": {
      "needs_background": "light"
     },
     "output_type": "display_data"
    }
   ],
   "source": [
    "ax  = df_model.plot.bar(rot=45)\n",
    "ax.legend(ncol= len(models.keys()), bbox_to_anchor=(0, 1), loc='lower left', prop={'size': 14})\n",
    "plt.tight_layout()"
   ]
  },
  {
   "cell_type": "markdown",
   "id": "0a4d41c9",
   "metadata": {},
   "source": [
    "Checking the prediction of our data"
   ]
  },
  {
   "cell_type": "code",
   "execution_count": 52,
   "id": "9a2a9384",
   "metadata": {},
   "outputs": [
    {
     "name": "stdout",
     "output_type": "stream",
     "text": [
      "The flight is going to cancel\n"
     ]
    }
   ],
   "source": [
    "R=2.8\n",
    "bad_weather=0\n",
    "if model.predict(np.array([[bad_weather,R]]))[0]==1:\n",
    "    print(\"The flight is going to cancel\")\n",
    "else:\n",
    "    print(\"The flight is NOT going to cancel\")"
   ]
  },
  {
   "cell_type": "markdown",
   "id": "e210a35b",
   "metadata": {},
   "source": [
    "Making a comperisent of two differnt machine learning models \"Random Forest\" vs. \"Logistic Regression\""
   ]
  },
  {
   "cell_type": "code",
   "execution_count": 53,
   "id": "40068504",
   "metadata": {},
   "outputs": [
    {
     "data": {
      "text/plain": [
       "KFold(n_splits=2, random_state=None, shuffle=False)"
      ]
     },
     "execution_count": 53,
     "metadata": {},
     "output_type": "execute_result"
    }
   ],
   "source": [
    "kf= KFold(n_splits=2)\n",
    "kf"
   ]
  },
  {
   "cell_type": "code",
   "execution_count": 54,
   "id": "588457b9",
   "metadata": {},
   "outputs": [],
   "source": [
    "def get_score(model1,xtrain,xtest,ytrain,ytest):\n",
    "    model1.fit(xtrain,ytrain)\n",
    "    return model.score(xtest,ytest)\n"
   ]
  },
  {
   "cell_type": "code",
   "execution_count": 55,
   "id": "cbf9eead",
   "metadata": {},
   "outputs": [],
   "source": [
    "scores_l=[]\n",
    "scores_rf=[]\n",
    "for train_index,test_index in kf.split(df):\n",
    "    scores_l.append(get_score(LogisticRegression(),xtrain,xtest,ytrain,ytest))\n",
    "    scores_rf.append(get_score(RandomForestClassifier(),xtrain,xtest,ytrain,ytest))"
   ]
  },
  {
   "cell_type": "code",
   "execution_count": 56,
   "id": "98f62f6e",
   "metadata": {},
   "outputs": [
    {
     "name": "stdout",
     "output_type": "stream",
     "text": [
      "[0.987667009249743, 0.987667009249743]\n",
      "[0.987667009249743, 0.987667009249743]\n"
     ]
    }
   ],
   "source": [
    "print(scores_l)\n",
    "print(scores_rf)"
   ]
  },
  {
   "cell_type": "markdown",
   "id": "7e0ff77d",
   "metadata": {},
   "source": [
    "# Hope you enjoyed :)"
   ]
  }
 ],
 "metadata": {
  "kernelspec": {
   "display_name": "Python 3 (ipykernel)",
   "language": "python",
   "name": "python3"
  },
  "language_info": {
   "codemirror_mode": {
    "name": "ipython",
    "version": 3
   },
   "file_extension": ".py",
   "mimetype": "text/x-python",
   "name": "python",
   "nbconvert_exporter": "python",
   "pygments_lexer": "ipython3",
   "version": "3.10.1"
  }
 },
 "nbformat": 4,
 "nbformat_minor": 5
}
